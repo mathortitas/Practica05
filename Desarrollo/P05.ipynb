{
 "cells": [
  {
   "cell_type": "markdown",
   "metadata": {},
   "source": [
    "Bucle while\n"
   ]
  },
  {
   "cell_type": "code",
   "execution_count": null,
   "metadata": {
    "vscode": {
     "languageId": "plaintext"
    }
   },
   "outputs": [],
   "source": [
    "while <condición>:\n",
    "<código>\n",
    "<código>\n",
    "...................."
   ]
  },
  {
   "cell_type": "markdown",
   "metadata": {},
   "source": [
    "Uso del while en ejemplos"
   ]
  },
  {
   "cell_type": "markdown",
   "metadata": {},
   "source": [
    "    Imprimir la tabla del 3"
   ]
  },
  {
   "cell_type": "code",
   "execution_count": null,
   "metadata": {
    "vscode": {
     "languageId": "plaintext"
    }
   },
   "outputs": [],
   "source": [
    "i = 1\n",
    "while i <= 10:\n",
    "    print(f\"3 x {i} = {3 * i}\")\n",
    "    i += 1\n"
   ]
  },
  {
   "cell_type": "markdown",
   "metadata": {},
   "source": [
    "    Repetir una frase las veces que desee"
   ]
  },
  {
   "cell_type": "code",
   "execution_count": null,
   "metadata": {
    "vscode": {
     "languageId": "plaintext"
    }
   },
   "outputs": [],
   "source": [
    "def repetir_frase(frase, veces):\n",
    "    i = 0\n",
    "    while i < veces:\n",
    "        print(frase)\n",
    "        i += 1\n",
    "\n",
    "frase = input(\"Ingrese la frase a repetir: \")\n",
    "veces = int(input(\"¿Cuántas veces desea repetirla? \"))\n",
    "repetir_frase(frase, veces)\n"
   ]
  },
  {
   "cell_type": "markdown",
   "metadata": {},
   "source": [
    "Programa para solicitar ingreso de contraseña con intentos limitados:\n"
   ]
  },
  {
   "cell_type": "code",
   "execution_count": null,
   "metadata": {
    "vscode": {
     "languageId": "plaintext"
    }
   },
   "outputs": [],
   "source": [
    "password = ''\n",
    "intentos = 0\n",
    "max_intentos = 5\n",
    "\n",
    "while password != '12345' and intentos < max_intentos:\n",
    "    password = input(\"Por favor ingrese su contraseña: \")\n",
    "    intentos += 1\n",
    "    if password == '12345':\n",
    "        print(\"¡Acceso concedido!\")\n",
    "    elif intentos == max_intentos:\n",
    "        print(\"Finalizó los intentos...!\")\n"
   ]
  },
  {
   "cell_type": "markdown",
   "metadata": {},
   "source": [
    "Programa que utiliza break para validar un nombre"
   ]
  },
  {
   "cell_type": "code",
   "execution_count": null,
   "metadata": {
    "vscode": {
     "languageId": "plaintext"
    }
   },
   "outputs": [],
   "source": [
    "while True:\n",
    "    nombre = input(\"Ingrese su nombre: \")\n",
    "    if nombre.isalpha():\n",
    "        print(f\"Nombre válido: {nombre}\")\n",
    "        break\n",
    "    else:\n",
    "        print(\"El nombre contiene caracteres inválidos. Intente nuevamente.\")\n"
   ]
  },
  {
   "cell_type": "markdown",
   "metadata": {},
   "source": [
    " Programa que usa continue para validar nombre y contraseña en listas"
   ]
  },
  {
   "cell_type": "code",
   "execution_count": null,
   "metadata": {
    "vscode": {
     "languageId": "plaintext"
    }
   },
   "outputs": [],
   "source": [
    "nombres_validos = [\"Alice\", \"Bob\", \"Carlos\"]\n",
    "contraseñas_validas = [\"1234\", \"abcd\", \"5678\"]\n",
    "\n",
    "while True:\n",
    "    nombre = input(\"Ingrese su nombre: \")\n",
    "    if nombre not in nombres_validos:\n",
    "        print(\"Nombre no válido. Intente nuevamente.\")\n",
    "        continue\n",
    "\n",
    "    contraseña = input(\"Ingrese su contraseña: \")\n",
    "    if contraseña not in contraseñas_validas:\n",
    "        print(\"Contraseña no válida. Intente nuevamente.\")\n",
    "        continue\n",
    "\n",
    "    print(f\"¡Bienvenido, {nombre}!\")\n",
    "    break\n"
   ]
  }
 ],
 "metadata": {
  "language_info": {
   "name": "python"
  }
 },
 "nbformat": 4,
 "nbformat_minor": 2
}
